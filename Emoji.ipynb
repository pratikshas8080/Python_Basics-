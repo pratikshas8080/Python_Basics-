{
  "nbformat": 4,
  "nbformat_minor": 0,
  "metadata": {
    "colab": {
      "name": "Emoji.ipynb",
      "provenance": [],
      "collapsed_sections": [],
      "authorship_tag": "ABX9TyOmL2JjJVcqqgzGvYww4Zen",
      "include_colab_link": true
    },
    "kernelspec": {
      "name": "python3",
      "display_name": "Python 3"
    },
    "language_info": {
      "name": "python"
    }
  },
  "cells": [
    {
      "cell_type": "markdown",
      "metadata": {
        "id": "view-in-github",
        "colab_type": "text"
      },
      "source": [
        "<a href=\"https://colab.research.google.com/github/pratikshas8080/Python_Basics-/blob/master/Emoji.ipynb\" target=\"_parent\"><img src=\"https://colab.research.google.com/assets/colab-badge.svg\" alt=\"Open In Colab\"/></a>"
      ]
    },
    {
      "cell_type": "code",
      "metadata": {
        "colab": {
          "base_uri": "https://localhost:8080/"
        },
        "id": "BuWEPBK3AcE4",
        "outputId": "33a5796f-31ca-48c7-927c-b89104392d43"
      },
      "source": [
        "print(\"\\U0001F917\")\n",
        "print(\"\\U0001F637\")\n",
        "print(\"\\U0001F62A\")\n",
        "print(\"\\U0001F618\")\n",
        "print(\"\\U0001F600\")\n"
      ],
      "execution_count": null,
      "outputs": [
        {
          "output_type": "stream",
          "text": [
            "🤗\n",
            "😷\n",
            "😪\n",
            "😘\n",
            "😀\n"
          ],
          "name": "stdout"
        }
      ]
    },
    {
      "cell_type": "code",
      "metadata": {
        "colab": {
          "base_uri": "https://localhost:8080/"
        },
        "id": "O7NJvZfiIlLa",
        "outputId": "5e6ccdcf-6b5f-496e-e25f-fee1f42c5005"
      },
      "source": [
        "pip install emoji"
      ],
      "execution_count": null,
      "outputs": [
        {
          "output_type": "stream",
          "text": [
            "Collecting emoji\n",
            "\u001b[?25l  Downloading https://files.pythonhosted.org/packages/24/fa/b3368f41b95a286f8d300e323449ab4e86b85334c2e0b477e94422b8ed0f/emoji-1.2.0-py3-none-any.whl (131kB)\n",
            "\r\u001b[K     |██▌                             | 10kB 13.3MB/s eta 0:00:01\r\u001b[K     |█████                           | 20kB 18.6MB/s eta 0:00:01\r\u001b[K     |███████▌                        | 30kB 8.9MB/s eta 0:00:01\r\u001b[K     |██████████                      | 40kB 6.1MB/s eta 0:00:01\r\u001b[K     |████████████▌                   | 51kB 4.2MB/s eta 0:00:01\r\u001b[K     |███████████████                 | 61kB 4.7MB/s eta 0:00:01\r\u001b[K     |█████████████████▌              | 71kB 4.6MB/s eta 0:00:01\r\u001b[K     |████████████████████            | 81kB 4.8MB/s eta 0:00:01\r\u001b[K     |██████████████████████▌         | 92kB 5.3MB/s eta 0:00:01\r\u001b[K     |█████████████████████████       | 102kB 5.0MB/s eta 0:00:01\r\u001b[K     |███████████████████████████▌    | 112kB 5.0MB/s eta 0:00:01\r\u001b[K     |██████████████████████████████  | 122kB 5.0MB/s eta 0:00:01\r\u001b[K     |████████████████████████████████| 133kB 5.0MB/s \n",
            "\u001b[?25hInstalling collected packages: emoji\n",
            "Successfully installed emoji-1.2.0\n"
          ],
          "name": "stdout"
        }
      ]
    },
    {
      "cell_type": "code",
      "metadata": {
        "colab": {
          "base_uri": "https://localhost:8080/"
        },
        "id": "t-M8o5QQIpwU",
        "outputId": "f58c2021-7434-4f39-cd76-229378063bda"
      },
      "source": [
        "# import emoji module\n",
        "import emoji\n",
        "\n",
        "\n",
        "print(emoji.emojize(\":grinning_face_with_big_eyes:\"))\n",
        "print(emoji.emojize(\":winking_face_with_tongue:\"))\n",
        "print(emoji.emojize(\":zipper-mouth_face:\"))"
      ],
      "execution_count": null,
      "outputs": [
        {
          "output_type": "stream",
          "text": [
            "😃\n",
            "😜\n",
            "🤐\n"
          ],
          "name": "stdout"
        }
      ]
    }
  ]
}