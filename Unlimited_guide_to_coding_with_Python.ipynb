{
  "nbformat": 4,
  "nbformat_minor": 0,
  "metadata": {
    "colab": {
      "name": "Unlimited_guide_to_coding_with_Python.ipynb",
      "provenance": [],
      "collapsed_sections": [],
      "authorship_tag": "ABX9TyOKmRjRfy09FIPVnyFZZ8lR",
      "include_colab_link": true
    },
    "kernelspec": {
      "name": "python3",
      "display_name": "Python 3"
    }
  },
  "cells": [
    {
      "cell_type": "markdown",
      "metadata": {
        "id": "view-in-github",
        "colab_type": "text"
      },
      "source": [
        "<a href=\"https://colab.research.google.com/github/pratikshas8080/Python_Basics-/blob/master/Unlimited_guide_to_coding_with_Python.ipynb\" target=\"_parent\"><img src=\"https://colab.research.google.com/assets/colab-badge.svg\" alt=\"Open In Colab\"/></a>"
      ]
    },
    {
      "cell_type": "code",
      "metadata": {
        "id": "2Wf69Zt_JM7v",
        "colab_type": "code",
        "colab": {
          "base_uri": "https://localhost:8080/",
          "height": 34
        },
        "outputId": "1b535ce7-4631-43c3-dbaf-0e6e856d2223"
      },
      "source": [
        "print(\"Hello Everyone\")"
      ],
      "execution_count": 1,
      "outputs": [
        {
          "output_type": "stream",
          "text": [
            "Hello Everyone\n"
          ],
          "name": "stdout"
        }
      ]
    },
    {
      "cell_type": "code",
      "metadata": {
        "id": "aPNhdmK_J-PN",
        "colab_type": "code",
        "colab": {}
      },
      "source": [
        "hello_int=21\n",
        "hello_bool=True\n",
        "hello_tuple=(21,32)\n",
        "hello_list=[\"Hello\",\"This\",\"is\",\"a\",\"List\"]"
      ],
      "execution_count": 4,
      "outputs": []
    },
    {
      "cell_type": "code",
      "metadata": {
        "id": "tF-Z1hrVLAw4",
        "colab_type": "code",
        "colab": {
          "base_uri": "https://localhost:8080/",
          "height": 34
        },
        "outputId": "fe82f1f7-edcd-4789-c5ee-178343324ebf"
      },
      "source": [
        "hello_list=list()\n",
        "hello_list.append(\"Hello\")\n",
        "hello_list.append(\"This\")\n",
        "hello_list.append(\"is\")\n",
        "hello_list.append(\"a\")\n",
        "hello_list.append(\"List\")\n",
        "print(hello_list)"
      ],
      "execution_count": 7,
      "outputs": [
        {
          "output_type": "stream",
          "text": [
            "['Hello', 'This', 'is', 'a', 'List']\n"
          ],
          "name": "stdout"
        }
      ]
    },
    {
      "cell_type": "code",
      "metadata": {
        "id": "ipQ7hvcLLbCB",
        "colab_type": "code",
        "colab": {
          "base_uri": "https://localhost:8080/",
          "height": 34
        },
        "outputId": "0b98f10d-6dc3-49f0-a593-1b27f358f8fa"
      },
      "source": [
        "hello_dict={\n",
        "    \"First_Name\":\"Pratiksha\",\n",
        "    \"Last_Name\":\"Sawandkar\",\n",
        "    \"eye_colour\":\"Brown\"\n",
        "}\n",
        "print(hello_dict)"
      ],
      "execution_count": 14,
      "outputs": [
        {
          "output_type": "stream",
          "text": [
            "{'First_Name': 'Pratiksha', 'Last_Name': 'Sawandkar', 'eye_colour': 'Brown'}\n"
          ],
          "name": "stdout"
        }
      ]
    },
    {
      "cell_type": "code",
      "metadata": {
        "id": "l5NM1n7eMwd2",
        "colab_type": "code",
        "colab": {
          "base_uri": "https://localhost:8080/",
          "height": 34
        },
        "outputId": "d045a202-7c8c-403e-814c-a24c113724ca"
      },
      "source": [
        "#dictionary second Example\n",
        "thisdict = {\n",
        "  \"brand\": \"Ford\",\n",
        "  \"model\": \"Mustang\",\n",
        "  \"year\": 1964\n",
        "}\n",
        "print(thisdict)"
      ],
      "execution_count": 16,
      "outputs": [
        {
          "output_type": "stream",
          "text": [
            "{'brand': 'Ford', 'model': 'Mustang', 'year': 1964}\n"
          ],
          "name": "stdout"
        }
      ]
    },
    {
      "cell_type": "code",
      "metadata": {
        "id": "CmuKpQmzM2xK",
        "colab_type": "code",
        "colab": {
          "base_uri": "https://localhost:8080/",
          "height": 34
        },
        "outputId": "1fbac376-cf1f-40d6-edd1-621ebc8663ec"
      },
      "source": [
        "# a control structure that decided to end the program if a number was less than 5 would look something like this:\n",
        "\n",
        "import sys\n",
        "int_condition=10\n",
        "\n",
        "if int_condition < 6:\n",
        "  sys.exit(\"int_condition must be <=6\")\n",
        "else:\n",
        "  print(\"int_condition was >=6-contining\")"
      ],
      "execution_count": 18,
      "outputs": [
        {
          "output_type": "stream",
          "text": [
            "int_condition was >=6-contining\n"
          ],
          "name": "stdout"
        }
      ]
    },
    {
      "cell_type": "code",
      "metadata": {
        "id": "xpZ-pSu4N3nx",
        "colab_type": "code",
        "colab": {}
      },
      "source": [
        "import sys\n",
        "target_int=input(\"How many integers\")\n",
        "\n",
        "try:\n",
        "  target_int = int(target_int)\n",
        "except ValueError:\n",
        "  sys.exit(\"you must enter an integer\")\n",
        "\n",
        "ints=list()\n",
        "\n",
        "count=0\n",
        "\n",
        "while count < target_int:\n",
        "  new_int=input(\"please enter interger{0}:\".format(count+1))\n",
        "  isint=False\n",
        "  try:\n",
        "    new_int=int(new_int)\n",
        "  except:\n",
        "    print(\"you have must integer\")\n",
        "\n",
        "  if isint == True:\n",
        "    ints.append(new_int)\n",
        "    count += 1\n",
        "\n",
        "print(\"Using a for loop\")\n",
        "for value in ints:\n",
        "  print(str(value))"
      ],
      "execution_count": null,
      "outputs": []
    },
    {
      "cell_type": "code",
      "metadata": {
        "id": "jfMzmzJEQS9h",
        "colab_type": "code",
        "colab": {}
      },
      "source": [
        ""
      ],
      "execution_count": null,
      "outputs": []
    }
  ]
}