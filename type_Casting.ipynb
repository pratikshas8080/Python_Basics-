{
  "nbformat": 4,
  "nbformat_minor": 0,
  "metadata": {
    "colab": {
      "name": "type_Casting.ipynb",
      "provenance": [],
      "authorship_tag": "ABX9TyOarKM1WjVJyAxc3Gb1GzGz",
      "include_colab_link": true
    },
    "kernelspec": {
      "name": "python3",
      "display_name": "Python 3"
    },
    "language_info": {
      "name": "python"
    }
  },
  "cells": [
    {
      "cell_type": "markdown",
      "metadata": {
        "id": "view-in-github",
        "colab_type": "text"
      },
      "source": [
        "<a href=\"https://colab.research.google.com/github/pratikshas8080/Python_Basics-/blob/master/type_Casting.ipynb\" target=\"_parent\"><img src=\"https://colab.research.google.com/assets/colab-badge.svg\" alt=\"Open In Colab\"/></a>"
      ]
    },
    {
      "cell_type": "code",
      "metadata": {
        "colab": {
          "base_uri": "https://localhost:8080/"
        },
        "id": "Ht-VKLwTld1L",
        "outputId": "cef03387-2926-4482-d829-d14f66c1f0c4"
      },
      "source": [
        "e=\"31\"\n",
        "e=int(31)\n",
        "\n",
        "print(e+20)"
      ],
      "execution_count": 1,
      "outputs": [
        {
          "output_type": "stream",
          "text": [
            "51\n"
          ],
          "name": "stdout"
        }
      ]
    },
    {
      "cell_type": "code",
      "metadata": {
        "colab": {
          "base_uri": "https://localhost:8080/"
        },
        "id": "DnmvFfwTlvvn",
        "outputId": "1cf21578-5084-4be4-d73f-ec0aeab962e5"
      },
      "source": [
        "e=(str(455))\n",
        "print(e)"
      ],
      "execution_count": 2,
      "outputs": [
        {
          "output_type": "stream",
          "text": [
            "455\n"
          ],
          "name": "stdout"
        }
      ]
    },
    {
      "cell_type": "code",
      "metadata": {
        "colab": {
          "base_uri": "https://localhost:8080/"
        },
        "id": "fD03iNrLl39b",
        "outputId": "96221148-3762-473e-c0b8-3cd71fb266e1"
      },
      "source": [
        "e=100\n",
        "e=float(100)\n",
        "\n",
        "print(e+2)"
      ],
      "execution_count": 3,
      "outputs": [
        {
          "output_type": "stream",
          "text": [
            "102.0\n"
          ],
          "name": "stdout"
        }
      ]
    }
  ]
}