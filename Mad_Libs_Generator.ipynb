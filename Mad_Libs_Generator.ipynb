{
  "nbformat": 4,
  "nbformat_minor": 0,
  "metadata": {
    "colab": {
      "name": "Mad_Libs_Generator.ipynb",
      "provenance": [],
      "authorship_tag": "ABX9TyPcUdnrTm+XYG0/BONwIE7U",
      "include_colab_link": true
    },
    "kernelspec": {
      "name": "python3",
      "display_name": "Python 3"
    }
  },
  "cells": [
    {
      "cell_type": "markdown",
      "metadata": {
        "id": "view-in-github",
        "colab_type": "text"
      },
      "source": [
        "<a href=\"https://colab.research.google.com/github/pratikshas8080/Python_Basics-/blob/master/Mad_Libs_Generator.ipynb\" target=\"_parent\"><img src=\"https://colab.research.google.com/assets/colab-badge.svg\" alt=\"Open In Colab\"/></a>"
      ]
    },
    {
      "cell_type": "code",
      "metadata": {
        "id": "YIVDybr44F-R",
        "outputId": "36b00c58-3293-4239-8ec9-5dc4ffc7189b",
        "colab": {
          "base_uri": "https://localhost:8080/",
          "height": 317
        }
      },
      "source": [
        "\"\"\" Mad Libs Generator\n",
        "----------------------------------------\n",
        "\"\"\"\n",
        "loop = 1\n",
        "while (loop < 10):\n",
        "    noun = input(\"Choose a noun: \")\n",
        "    p_noun = input(\"Choose a plural noun: \")\n",
        "    noun2 = input(\"Choose a noun: \")\n",
        "    place = input(\"Name a place: \")\n",
        "    adjective = input(\"Choose an adjective (Describing word): \")\n",
        "    noun3 = input(\"Choose a noun: \")\n",
        "    print (\"------------------------------------------\")\n",
        "    print (\"Be kind to your\",noun,\"- footed\", p_noun)\n",
        "    print (\"For a duck may be somebody's\", noun2,\",\")\n",
        "    print (\"Be kind to your\",p_noun,\"in\",place)\n",
        "    print (\"Where the weather is always\",adjective,\".\")\n",
        "    print ()\n",
        "    print (\"You may think that is this the\",noun3,\",\")\n",
        "    print (\"Well it is.\")\n",
        "    print (\"------------------------------------------\")\n",
        "    loop = loop + 1"
      ],
      "execution_count": null,
      "outputs": [
        {
          "output_type": "stream",
          "text": [
            "Choose a noun: 5\n",
            "Choose a plural noun: 10\n",
            "Choose a noun: 5\n",
            "Name a place: 2\n",
            "Choose an adjective (Describing word): pratu\n",
            "Choose a noun: sawandkar\n",
            "------------------------------------------\n",
            "Be kind to your 5 - footed 10\n",
            "For a duck may be somebody's 5 ,\n",
            "Be kind to your 10 in 2\n",
            "Where the weather is always pratu .\n",
            "\n",
            "You may think that is this the sawandkar ,\n",
            "Well it is.\n",
            "------------------------------------------\n"
          ],
          "name": "stdout"
        }
      ]
    }
  ]
}