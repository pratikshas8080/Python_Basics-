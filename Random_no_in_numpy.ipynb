{
  "nbformat": 4,
  "nbformat_minor": 0,
  "metadata": {
    "colab": {
      "name": "Random_no_in_numpy.ipynb",
      "provenance": [],
      "collapsed_sections": [],
      "authorship_tag": "ABX9TyMPhVXnAoLsdqRh94xxjUB2",
      "include_colab_link": true
    },
    "kernelspec": {
      "name": "python3",
      "display_name": "Python 3"
    }
  },
  "cells": [
    {
      "cell_type": "markdown",
      "metadata": {
        "id": "view-in-github",
        "colab_type": "text"
      },
      "source": [
        "<a href=\"https://colab.research.google.com/github/pratikshas8080/Python_Basics-/blob/master/Random_no_in_numpy.ipynb\" target=\"_parent\"><img src=\"https://colab.research.google.com/assets/colab-badge.svg\" alt=\"Open In Colab\"/></a>"
      ]
    },
    {
      "cell_type": "code",
      "metadata": {
        "id": "zxfsmpJ-B4Iw",
        "colab_type": "code",
        "colab": {
          "base_uri": "https://localhost:8080/",
          "height": 34
        },
        "outputId": "56a2665c-1860-4e9a-97b5-520eb15f08f1"
      },
      "source": [
        "#NumPy offers the random module to work with random numbers.\n",
        "from numpy import random\n",
        "\n",
        "x = random.randint(100)\n",
        "\n",
        "print(x)"
      ],
      "execution_count": 1,
      "outputs": [
        {
          "output_type": "stream",
          "text": [
            "78\n"
          ],
          "name": "stdout"
        }
      ]
    },
    {
      "cell_type": "code",
      "metadata": {
        "id": "gUpaBDXUw0Gv",
        "colab_type": "code",
        "colab": {
          "base_uri": "https://localhost:8080/",
          "height": 34
        },
        "outputId": "91ff757f-8f38-44fb-9d96-bbbe7c546456"
      },
      "source": [
        "#The random module's rand() method returns a random float between 0 and 1\n",
        "from numpy import random\n",
        "\n",
        "x = random.rand()\n",
        "\n",
        "print(x)"
      ],
      "execution_count": 2,
      "outputs": [
        {
          "output_type": "stream",
          "text": [
            "0.10993684956537031\n"
          ],
          "name": "stdout"
        }
      ]
    },
    {
      "cell_type": "code",
      "metadata": {
        "id": "yHg2BAPtyxSF",
        "colab_type": "code",
        "colab": {
          "base_uri": "https://localhost:8080/",
          "height": 34
        },
        "outputId": "a0cce55f-ca62-486b-fbef-e6e1b1348e01"
      },
      "source": [
        "#The randint() method takes a size parameter where you can specify the shape of an array\n",
        "from numpy import random\n",
        "\n",
        "x=random.randint(100, size=(5))\n",
        "\n",
        "print(x)"
      ],
      "execution_count": 3,
      "outputs": [
        {
          "output_type": "stream",
          "text": [
            "[91 86  2 43 83]\n"
          ],
          "name": "stdout"
        }
      ]
    },
    {
      "cell_type": "code",
      "metadata": {
        "id": "PYeX5bba2zM9",
        "colab_type": "code",
        "colab": {
          "base_uri": "https://localhost:8080/",
          "height": 69
        },
        "outputId": "d397417e-a587-4c64-d67e-8f218243af55"
      },
      "source": [
        "#Generate a 2-D array with 3 rows, each row containing 5 random integers from 0 to 100\n",
        "from numpy import random\n",
        "\n",
        "x = random.randint(100, size=(3, 5))\n",
        "\n",
        "print(x)"
      ],
      "execution_count": 4,
      "outputs": [
        {
          "output_type": "stream",
          "text": [
            "[[29 51 17 10  9]\n",
            " [63 24 23  3 51]\n",
            " [27 45 56  1 71]]\n"
          ],
          "name": "stdout"
        }
      ]
    },
    {
      "cell_type": "code",
      "metadata": {
        "id": "Gpun-gTi3U6e",
        "colab_type": "code",
        "colab": {
          "base_uri": "https://localhost:8080/",
          "height": 34
        },
        "outputId": "5f6971e1-c697-4fd8-e913-1786b868bdf1"
      },
      "source": [
        "#The rand() method also allows you to specify the shape of the array\n",
        "from numpy import random\n",
        "\n",
        "x = random.rand(5)\n",
        "\n",
        "print(x)"
      ],
      "execution_count": 5,
      "outputs": [
        {
          "output_type": "stream",
          "text": [
            "[0.56766422 0.33657475 0.83751014 0.99619079 0.83495515]\n"
          ],
          "name": "stdout"
        }
      ]
    },
    {
      "cell_type": "code",
      "metadata": {
        "id": "tBKFZkkI3bKF",
        "colab_type": "code",
        "colab": {
          "base_uri": "https://localhost:8080/",
          "height": 69
        },
        "outputId": "fa106c48-befe-4588-bb48-7cea81bbf8b8"
      },
      "source": [
        "#Generate a 2-D array with 3 rows, each row containing 5 random numbers\n",
        "from numpy import random\n",
        "\n",
        "x = random.rand(3, 5)\n",
        "\n",
        "print(x)"
      ],
      "execution_count": 6,
      "outputs": [
        {
          "output_type": "stream",
          "text": [
            "[[0.06418668 0.36556275 0.50285412 0.15051513 0.15531442]\n",
            " [0.179704   0.26012143 0.71859525 0.34865825 0.74846709]\n",
            " [0.61853732 0.8596352  0.2296059  0.20237459 0.07915406]]\n"
          ],
          "name": "stdout"
        }
      ]
    },
    {
      "cell_type": "code",
      "metadata": {
        "id": "UhlIH8oX4ueM",
        "colab_type": "code",
        "colab": {
          "base_uri": "https://localhost:8080/",
          "height": 34
        },
        "outputId": "e6e0e5a9-fc63-43d3-f114-7b48fe69d79e"
      },
      "source": [
        "#The choice() method takes an array as a parameter and randomly returns one of the values.\n",
        "from numpy import random\n",
        "\n",
        "x = random.choice([3, 5, 7, 9])\n",
        "\n",
        "print(x)"
      ],
      "execution_count": 7,
      "outputs": [
        {
          "output_type": "stream",
          "text": [
            "7\n"
          ],
          "name": "stdout"
        }
      ]
    },
    {
      "cell_type": "code",
      "metadata": {
        "id": "ksPNfbo843BY",
        "colab_type": "code",
        "colab": {
          "base_uri": "https://localhost:8080/",
          "height": 69
        },
        "outputId": "719f4e86-5415-4338-c71f-549c2448ca01"
      },
      "source": [
        "#The choice() method also allows you to return an array of values\n",
        "from numpy import random\n",
        "\n",
        "x = random.choice([3, 5, 7, 9], size=(3, 5))\n",
        "\n",
        "print(x)"
      ],
      "execution_count": 8,
      "outputs": [
        {
          "output_type": "stream",
          "text": [
            "[[9 9 5 7 3]\n",
            " [9 5 5 5 9]\n",
            " [7 7 9 5 7]]\n"
          ],
          "name": "stdout"
        }
      ]
    },
    {
      "cell_type": "code",
      "metadata": {
        "id": "dI9dCUDW5Diy",
        "colab_type": "code",
        "colab": {
          "base_uri": "https://localhost:8080/",
          "height": 69
        },
        "outputId": "b1b35a0e-0826-4cd4-c127-f65f831f205e"
      },
      "source": [
        "#Data Distribution is a list of all possible values, and how often each value occurs.\n",
        "from numpy import random\n",
        "\n",
        "x = random.choice([3, 5, 7, 9], p=[0.1, 0.3, 0.6, 0.0], size=(100))\n",
        "\n",
        "print(x)"
      ],
      "execution_count": 9,
      "outputs": [
        {
          "output_type": "stream",
          "text": [
            "[5 5 5 3 7 7 7 7 7 7 5 7 5 3 7 5 7 5 5 7 7 7 5 7 5 5 5 5 7 7 5 7 7 7 7 5 7\n",
            " 7 7 7 7 7 5 5 7 5 7 7 7 7 3 7 7 7 7 7 5 7 7 5 5 7 7 7 7 7 7 7 7 7 5 7 7 7\n",
            " 7 7 7 3 5 5 5 7 5 7 5 5 7 5 7 7 5 3 7 7 7 7 3 3 5 3]\n"
          ],
          "name": "stdout"
        }
      ]
    },
    {
      "cell_type": "code",
      "metadata": {
        "id": "VQQhJw_jAOXT",
        "colab_type": "code",
        "colab": {
          "base_uri": "https://localhost:8080/",
          "height": 34
        },
        "outputId": "49ff388f-42c8-4b65-8b0e-ba2342300c83"
      },
      "source": [
        "#The NumPy Random module provides two methods for this: shuffle() and permutation()\n",
        "from numpy import random\n",
        "import numpy as np\n",
        "\n",
        "arr = np.array([1, 2, 3, 4, 5])\n",
        "\n",
        "random.shuffle(arr)\n",
        "\n",
        "print(arr)"
      ],
      "execution_count": 10,
      "outputs": [
        {
          "output_type": "stream",
          "text": [
            "[2 4 3 1 5]\n"
          ],
          "name": "stdout"
        }
      ]
    },
    {
      "cell_type": "code",
      "metadata": {
        "id": "IhSr1vVdAXFQ",
        "colab_type": "code",
        "colab": {
          "base_uri": "https://localhost:8080/",
          "height": 34
        },
        "outputId": "fbcac78a-3598-463f-9e21-26c9f8c714c0"
      },
      "source": [
        "#Generate a random permutation of elements of following array\n",
        "from numpy import random\n",
        "import numpy as np\n",
        "\n",
        "arr = np.array([1, 2, 3, 4, 5])\n",
        "\n",
        "print(random.permutation(arr))"
      ],
      "execution_count": 11,
      "outputs": [
        {
          "output_type": "stream",
          "text": [
            "[5 3 4 2 1]\n"
          ],
          "name": "stdout"
        }
      ]
    }
  ]
}