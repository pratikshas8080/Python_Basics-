{
  "nbformat": 4,
  "nbformat_minor": 0,
  "metadata": {
    "colab": {
      "name": "Random_no_in_numpy.ipynb",
      "provenance": [],
      "collapsed_sections": [],
      "authorship_tag": "ABX9TyPWT2fBvsbEUs99GAuM+XYN",
      "include_colab_link": true
    },
    "kernelspec": {
      "name": "python3",
      "display_name": "Python 3"
    }
  },
  "cells": [
    {
      "cell_type": "markdown",
      "metadata": {
        "id": "view-in-github",
        "colab_type": "text"
      },
      "source": [
        "<a href=\"https://colab.research.google.com/github/pratikshas8080/Python_Basics-/blob/master/Random_no_in_numpy.ipynb\" target=\"_parent\"><img src=\"https://colab.research.google.com/assets/colab-badge.svg\" alt=\"Open In Colab\"/></a>"
      ]
    },
    {
      "cell_type": "code",
      "metadata": {
        "id": "zxfsmpJ-B4Iw",
        "colab_type": "code",
        "colab": {
          "base_uri": "https://localhost:8080/",
          "height": 34
        },
        "outputId": "56a2665c-1860-4e9a-97b5-520eb15f08f1"
      },
      "source": [
        "#NumPy offers the random module to work with random numbers.\n",
        "from numpy import random\n",
        "\n",
        "x = random.randint(100)\n",
        "\n",
        "print(x)"
      ],
      "execution_count": null,
      "outputs": [
        {
          "output_type": "stream",
          "text": [
            "78\n"
          ],
          "name": "stdout"
        }
      ]
    },
    {
      "cell_type": "code",
      "metadata": {
        "id": "gUpaBDXUw0Gv",
        "colab_type": "code",
        "colab": {
          "base_uri": "https://localhost:8080/",
          "height": 34
        },
        "outputId": "91ff757f-8f38-44fb-9d96-bbbe7c546456"
      },
      "source": [
        "#The random module's rand() method returns a random float between 0 and 1\n",
        "from numpy import random\n",
        "\n",
        "x = random.rand()\n",
        "\n",
        "print(x)"
      ],
      "execution_count": null,
      "outputs": [
        {
          "output_type": "stream",
          "text": [
            "0.10993684956537031\n"
          ],
          "name": "stdout"
        }
      ]
    },
    {
      "cell_type": "code",
      "metadata": {
        "id": "yHg2BAPtyxSF",
        "colab_type": "code",
        "colab": {
          "base_uri": "https://localhost:8080/",
          "height": 34
        },
        "outputId": "a0cce55f-ca62-486b-fbef-e6e1b1348e01"
      },
      "source": [
        "#The randint() method takes a size parameter where you can specify the shape of an array\n",
        "from numpy import random\n",
        "\n",
        "x=random.randint(100, size=(5))\n",
        "\n",
        "print(x)"
      ],
      "execution_count": null,
      "outputs": [
        {
          "output_type": "stream",
          "text": [
            "[91 86  2 43 83]\n"
          ],
          "name": "stdout"
        }
      ]
    },
    {
      "cell_type": "code",
      "metadata": {
        "id": "PYeX5bba2zM9",
        "colab_type": "code",
        "colab": {
          "base_uri": "https://localhost:8080/",
          "height": 69
        },
        "outputId": "d397417e-a587-4c64-d67e-8f218243af55"
      },
      "source": [
        "#Generate a 2-D array with 3 rows, each row containing 5 random integers from 0 to 100\n",
        "from numpy import random\n",
        "\n",
        "x = random.randint(100, size=(3, 5))\n",
        "\n",
        "print(x)"
      ],
      "execution_count": null,
      "outputs": [
        {
          "output_type": "stream",
          "text": [
            "[[29 51 17 10  9]\n",
            " [63 24 23  3 51]\n",
            " [27 45 56  1 71]]\n"
          ],
          "name": "stdout"
        }
      ]
    },
    {
      "cell_type": "code",
      "metadata": {
        "id": "Gpun-gTi3U6e",
        "colab_type": "code",
        "colab": {
          "base_uri": "https://localhost:8080/",
          "height": 34
        },
        "outputId": "5f6971e1-c697-4fd8-e913-1786b868bdf1"
      },
      "source": [
        "#The rand() method also allows you to specify the shape of the array\n",
        "from numpy import random\n",
        "\n",
        "x = random.rand(5)\n",
        "\n",
        "print(x)"
      ],
      "execution_count": null,
      "outputs": [
        {
          "output_type": "stream",
          "text": [
            "[0.56766422 0.33657475 0.83751014 0.99619079 0.83495515]\n"
          ],
          "name": "stdout"
        }
      ]
    },
    {
      "cell_type": "code",
      "metadata": {
        "id": "tBKFZkkI3bKF",
        "colab_type": "code",
        "colab": {
          "base_uri": "https://localhost:8080/",
          "height": 69
        },
        "outputId": "fa106c48-befe-4588-bb48-7cea81bbf8b8"
      },
      "source": [
        "#Generate a 2-D array with 3 rows, each row containing 5 random numbers\n",
        "from numpy import random\n",
        "\n",
        "x = random.rand(3, 5)\n",
        "\n",
        "print(x)"
      ],
      "execution_count": null,
      "outputs": [
        {
          "output_type": "stream",
          "text": [
            "[[0.06418668 0.36556275 0.50285412 0.15051513 0.15531442]\n",
            " [0.179704   0.26012143 0.71859525 0.34865825 0.74846709]\n",
            " [0.61853732 0.8596352  0.2296059  0.20237459 0.07915406]]\n"
          ],
          "name": "stdout"
        }
      ]
    },
    {
      "cell_type": "code",
      "metadata": {
        "id": "UhlIH8oX4ueM",
        "colab_type": "code",
        "colab": {
          "base_uri": "https://localhost:8080/",
          "height": 34
        },
        "outputId": "e6e0e5a9-fc63-43d3-f114-7b48fe69d79e"
      },
      "source": [
        "#The choice() method takes an array as a parameter and randomly returns one of the values.\n",
        "from numpy import random\n",
        "\n",
        "x = random.choice([3, 5, 7, 9])\n",
        "\n",
        "print(x)"
      ],
      "execution_count": null,
      "outputs": [
        {
          "output_type": "stream",
          "text": [
            "7\n"
          ],
          "name": "stdout"
        }
      ]
    },
    {
      "cell_type": "code",
      "metadata": {
        "id": "ksPNfbo843BY",
        "colab_type": "code",
        "colab": {
          "base_uri": "https://localhost:8080/",
          "height": 69
        },
        "outputId": "719f4e86-5415-4338-c71f-549c2448ca01"
      },
      "source": [
        "#The choice() method also allows you to return an array of values\n",
        "from numpy import random\n",
        "\n",
        "x = random.choice([3, 5, 7, 9], size=(3, 5))\n",
        "\n",
        "print(x)"
      ],
      "execution_count": null,
      "outputs": [
        {
          "output_type": "stream",
          "text": [
            "[[9 9 5 7 3]\n",
            " [9 5 5 5 9]\n",
            " [7 7 9 5 7]]\n"
          ],
          "name": "stdout"
        }
      ]
    },
    {
      "cell_type": "code",
      "metadata": {
        "id": "dI9dCUDW5Diy",
        "colab_type": "code",
        "colab": {
          "base_uri": "https://localhost:8080/",
          "height": 69
        },
        "outputId": "b1b35a0e-0826-4cd4-c127-f65f831f205e"
      },
      "source": [
        "#Data Distribution is a list of all possible values, and how often each value occurs.\n",
        "from numpy import random\n",
        "\n",
        "x = random.choice([3, 5, 7, 9], p=[0.1, 0.3, 0.6, 0.0], size=(100))\n",
        "\n",
        "print(x)"
      ],
      "execution_count": null,
      "outputs": [
        {
          "output_type": "stream",
          "text": [
            "[5 5 5 3 7 7 7 7 7 7 5 7 5 3 7 5 7 5 5 7 7 7 5 7 5 5 5 5 7 7 5 7 7 7 7 5 7\n",
            " 7 7 7 7 7 5 5 7 5 7 7 7 7 3 7 7 7 7 7 5 7 7 5 5 7 7 7 7 7 7 7 7 7 5 7 7 7\n",
            " 7 7 7 3 5 5 5 7 5 7 5 5 7 5 7 7 5 3 7 7 7 7 3 3 5 3]\n"
          ],
          "name": "stdout"
        }
      ]
    },
    {
      "cell_type": "code",
      "metadata": {
        "id": "VQQhJw_jAOXT",
        "colab_type": "code",
        "colab": {
          "base_uri": "https://localhost:8080/",
          "height": 34
        },
        "outputId": "49ff388f-42c8-4b65-8b0e-ba2342300c83"
      },
      "source": [
        "#The NumPy Random module provides two methods for this: shuffle() and permutation()\n",
        "from numpy import random\n",
        "import numpy as np\n",
        "\n",
        "arr = np.array([1, 2, 3, 4, 5])\n",
        "\n",
        "random.shuffle(arr)\n",
        "\n",
        "print(arr)"
      ],
      "execution_count": null,
      "outputs": [
        {
          "output_type": "stream",
          "text": [
            "[2 4 3 1 5]\n"
          ],
          "name": "stdout"
        }
      ]
    },
    {
      "cell_type": "code",
      "metadata": {
        "id": "IhSr1vVdAXFQ",
        "colab_type": "code",
        "colab": {
          "base_uri": "https://localhost:8080/",
          "height": 34
        },
        "outputId": "fbcac78a-3598-463f-9e21-26c9f8c714c0"
      },
      "source": [
        "#Generate a random permutation of elements of following array\n",
        "from numpy import random\n",
        "import numpy as np\n",
        "\n",
        "arr = np.array([1, 2, 3, 4, 5])\n",
        "\n",
        "print(random.permutation(arr))"
      ],
      "execution_count": null,
      "outputs": [
        {
          "output_type": "stream",
          "text": [
            "[5 3 4 2 1]\n"
          ],
          "name": "stdout"
        }
      ]
    },
    {
      "cell_type": "code",
      "metadata": {
        "id": "OVsmN6KDrxW_",
        "colab_type": "code",
        "colab": {}
      },
      "source": [
        "#Visualize Distributions With Seaborn\n",
        "#Import the pyplot object of the Matplotlib module in your code using the following statement\n",
        "import matplotlib.pyplot as plt\n"
      ],
      "execution_count": null,
      "outputs": []
    },
    {
      "cell_type": "code",
      "metadata": {
        "id": "IYjjm1iVsKGz",
        "colab_type": "code",
        "colab": {
          "base_uri": "https://localhost:8080/",
          "height": 71
        },
        "outputId": "19102fb0-8428-4e0e-e44d-d5b4cd071f13"
      },
      "source": [
        "#Import the Seaborn module in your code using the following statement:\n",
        "import seaborn as sns"
      ],
      "execution_count": null,
      "outputs": [
        {
          "output_type": "stream",
          "text": [
            "/usr/local/lib/python3.6/dist-packages/statsmodels/tools/_testing.py:19: FutureWarning: pandas.util.testing is deprecated. Use the functions in the public API at pandas.testing instead.\n",
            "  import pandas.util.testing as tm\n"
          ],
          "name": "stderr"
        }
      ]
    },
    {
      "cell_type": "code",
      "metadata": {
        "id": "d5RumCUGsXCL",
        "colab_type": "code",
        "colab": {
          "base_uri": "https://localhost:8080/",
          "height": 265
        },
        "outputId": "33b97f05-d573-4d58-f28c-153edc417556"
      },
      "source": [
        "import matplotlib.pyplot as plt\n",
        "import seaborn as sns\n",
        "\n",
        "sns.distplot([0, 1, 2, 3, 4, 5])\n",
        "\n",
        "plt.show()"
      ],
      "execution_count": null,
      "outputs": [
        {
          "output_type": "display_data",
          "data": {
            "image/png": "[encoded data removed]",
            "text/plain": [
              "<Figure size 432x288 with 1 Axes>"
            ]
          },
          "metadata": {
            "tags": [],
            "needs_background": "light"
          }
        }
      ]
    },
    {
      "cell_type": "code",
      "metadata": {
        "id": "UqWP3LjVsaiz",
        "colab_type": "code",
        "colab": {
          "base_uri": "https://localhost:8080/",
          "height": 265
        },
        "outputId": "26a28584-06ec-4a3e-98e4-3bae4764045c"
      },
      "source": [
        "import matplotlib.pyplot as plt\n",
        "import seaborn as sns\n",
        "\n",
        "sns.distplot([0, 1, 2, 3, 4, 5], hist=False)\n",
        "\n",
        "plt.show()"
      ],
      "execution_count": null,
      "outputs": [
        {
          "output_type": "display_data",
          "data": {
            "image/png": "[encoded data removed]",
            "text/plain": [
              "<Figure size 432x288 with 1 Axes>"
            ]
          },
          "metadata": {
            "tags": [],
            "needs_background": "light"
          }
        }
      ]
    },
    {
      "cell_type": "code",
      "metadata": {
        "id": "fYROrid7sfym",
        "colab_type": "code",
        "colab": {
          "base_uri": "https://localhost:8080/",
          "height": 51
        },
        "outputId": "2d333bc8-6df4-405d-ce02-3f438dafe049"
      },
      "source": [
        "#The Normal Distribution is one of the most important distributions.\n",
        "from numpy import random\n",
        "\n",
        "x = random.normal(size=(2, 3))\n",
        "\n",
        "print(x)"
      ],
      "execution_count": null,
      "outputs": [
        {
          "output_type": "stream",
          "text": [
            "[[-1.92014261 -0.5498858   0.82212618]\n",
            " [ 0.06321065  0.28082006 -1.04368899]]\n"
          ],
          "name": "stdout"
        }
      ]
    },
    {
      "cell_type": "code",
      "metadata": {
        "id": "uYzkYcKNs1Os",
        "colab_type": "code",
        "colab": {
          "base_uri": "https://localhost:8080/",
          "height": 51
        },
        "outputId": "eacfb8c1-24cf-47ad-d5ef-edb905f3e106"
      },
      "source": [
        "#Generate a random normal distribution of size 2x3 with mean at 1 and standard deviation of 2\n",
        "from numpy import random\n",
        "\n",
        "x = random.normal(loc=1, scale=2, size=(2, 3))\n",
        "\n",
        "print(x)"
      ],
      "execution_count": null,
      "outputs": [
        {
          "output_type": "stream",
          "text": [
            "[[ 1.68637352 -2.076154    0.57745922]\n",
            " [ 1.14524561  3.23723413  3.44882235]]\n"
          ],
          "name": "stdout"
        }
      ]
    },
    {
      "cell_type": "code",
      "metadata": {
        "id": "fAISmJS_tBuS",
        "colab_type": "code",
        "colab": {
          "base_uri": "https://localhost:8080/",
          "height": 265
        },
        "outputId": "4c7b128d-42c9-4838-b163-0f8becf4d280"
      },
      "source": [
        "#Visualization of Normal Distribution\n",
        "from numpy import random\n",
        "import matplotlib.pyplot as plt\n",
        "import seaborn as sns\n",
        "\n",
        "sns.distplot(random.normal(size=1000), hist=False)\n",
        "\n",
        "plt.show()"
      ],
      "execution_count": null,
      "outputs": [
        {
          "output_type": "display_data",
          "data": {
            "image/png": "[encoded data removed]",
            "text/plain": [
              "<Figure size 432x288 with 1 Axes>"
            ]
          },
          "metadata": {
            "tags": [],
            "needs_background": "light"
          }
        }
      ]
    },
    {
      "cell_type": "code",
      "metadata": {
        "id": "_eeP6z5ntgrW",
        "colab_type": "code",
        "colab": {
          "base_uri": "https://localhost:8080/",
          "height": 34
        },
        "outputId": "e0bb4826-9a26-4e92-df79-722f94260aff"
      },
      "source": [
        "#Binomial Distribution is a Discrete Distribution\n",
        "from numpy import random\n",
        "\n",
        "x = random.binomial(n=10, p=0.5, size=10)\n",
        "\n",
        "print(x)"
      ],
      "execution_count": null,
      "outputs": [
        {
          "output_type": "stream",
          "text": [
            "[4 4 6 6 5 5 3 8 2 3]\n"
          ],
          "name": "stdout"
        }
      ]
    },
    {
      "cell_type": "code",
      "metadata": {
        "id": "VFtU6b8Ftkuo",
        "colab_type": "code",
        "colab": {
          "base_uri": "https://localhost:8080/",
          "height": 269
        },
        "outputId": "ed88dcb9-a78d-4bd8-95ab-35eb17e3206b"
      },
      "source": [
        "from numpy import random\n",
        "import matplotlib.pyplot as plt\n",
        "import seaborn as sns\n",
        "\n",
        "sns.distplot(random.binomial(n=10, p=0.5, size=1000), hist=True, kde=False)\n",
        "\n",
        "plt.show()"
      ],
      "execution_count": null,
      "outputs": [
        {
          "output_type": "display_data",
          "data": {
            "image/png": "[encoded data removed]",
            "text/plain": [
              "<Figure size 432x288 with 1 Axes>"
            ]
          },
          "metadata": {
            "tags": [],
            "needs_background": "light"
          }
        }
      ]
    },
    {
      "cell_type": "code",
      "metadata": {
        "id": "luOibGbkto3i",
        "colab_type": "code",
        "colab": {
          "base_uri": "https://localhost:8080/",
          "height": 265
        },
        "outputId": "3eb65c0e-f3ca-4eec-ad2e-cf1d5a00ffc3"
      },
      "source": [
        "#The main difference is that normal distribution is continous whereas binomial is discrete, but if there are enough data points it will be quite similar to normal distribution with certain loc and scale.\n",
        "from numpy import random\n",
        "import matplotlib.pyplot as plt\n",
        "import seaborn as sns\n",
        "\n",
        "sns.distplot(random.normal(loc=50, scale=5, size=1000), hist=False, label='normal')\n",
        "sns.distplot(random.binomial(n=100, p=0.5, size=1000), hist=False, label='binomial')\n",
        "\n",
        "plt.show()"
      ],
      "execution_count": null,
      "outputs": [
        {
          "output_type": "display_data",
          "data": {
            "image/png": "[encoded data removed]",
            "text/plain": [
              "<Figure size 432x288 with 1 Axes>"
            ]
          },
          "metadata": {
            "tags": [],
            "needs_background": "light"
          }
        }
      ]
    },
    {
      "cell_type": "code",
      "metadata": {
        "id": "5XdKZVlKt6R6",
        "colab_type": "code",
        "colab": {
          "base_uri": "https://localhost:8080/",
          "height": 34
        },
        "outputId": "5193a70f-cc62-4205-c157-4d214d9a7013"
      },
      "source": [
        "#Poisson Distribution is a Discrete Distribution.\n",
        "from numpy import random\n",
        "\n",
        "x = random.poisson(lam=2, size=10)\n",
        "\n",
        "print(x)"
      ],
      "execution_count": null,
      "outputs": [
        {
          "output_type": "stream",
          "text": [
            "[3 0 1 3 3 2 6 4 3 1]\n"
          ],
          "name": "stdout"
        }
      ]
    },
    {
      "cell_type": "code",
      "metadata": {
        "id": "xC5a8ccwuFcO",
        "colab_type": "code",
        "colab": {
          "base_uri": "https://localhost:8080/",
          "height": 265
        },
        "outputId": "bba4f7cd-61f5-4b3b-a1cc-95151f5074ff"
      },
      "source": [
        "from numpy import random\n",
        "import matplotlib.pyplot as plt\n",
        "import seaborn as sns\n",
        "\n",
        "sns.distplot(random.poisson(lam=2, size=1000), kde=False)\n",
        "\n",
        "plt.show()"
      ],
      "execution_count": null,
      "outputs": [
        {
          "output_type": "display_data",
          "data": {
            "image/png": "[encoded data removed]",
            "text/plain": [
              "<Figure size 432x288 with 1 Axes>"
            ]
          },
          "metadata": {
            "tags": [],
            "needs_background": "light"
          }
        }
      ]
    },
    {
      "cell_type": "markdown",
      "metadata": {
        "id": "YrD3img_uTdR",
        "colab_type": "text"
      },
      "source": [
        "Difference Between Normal and Poisson Distribution\n",
        "Normal distribution is continous whereas poisson is discrete.\n",
        "\n",
        "But we can see that similar to binomial for a large enough poisson distribution it will become similar to normal distribution with certain std dev and mean."
      ]
    },
    {
      "cell_type": "code",
      "metadata": {
        "id": "DhzMkOVcuKSf",
        "colab_type": "code",
        "colab": {
          "base_uri": "https://localhost:8080/",
          "height": 266
        },
        "outputId": "726316a4-435f-4205-e19b-fa58655d2490"
      },
      "source": [
        "from numpy import random\n",
        "import matplotlib.pyplot as plt\n",
        "import seaborn as sns\n",
        "\n",
        "sns.distplot(random.normal(loc=50, scale=7, size=1000), hist=False, label='normal')\n",
        "sns.distplot(random.poisson(lam=50, size=1000), hist=False, label='poisson')\n",
        "\n",
        "plt.show()"
      ],
      "execution_count": null,
      "outputs": [
        {
          "output_type": "display_data",
          "data": {
            "image/png": "[encoded data removed]",
            "text/plain": [
              "<Figure size 432x288 with 1 Axes>"
            ]
          },
          "metadata": {
            "tags": [],
            "needs_background": "light"
          }
        }
      ]
    },
    {
      "cell_type": "code",
      "metadata": {
        "id": "VfWGhmpfvYy9",
        "colab_type": "code",
        "colab": {
          "base_uri": "https://localhost:8080/",
          "height": 51
        },
        "outputId": "bccc9717-5886-406f-ee22-1ebaffb64aa5"
      },
      "source": [
        "#Uniform Distribution\n",
        "from numpy import random\n",
        "\n",
        "x = random.uniform(size=(2, 3))\n",
        "\n",
        "print(x)"
      ],
      "execution_count": null,
      "outputs": [
        {
          "output_type": "stream",
          "text": [
            "[[0.02553358 0.59010756 0.629111  ]\n",
            " [0.81329932 0.32048323 0.3351735 ]]\n"
          ],
          "name": "stdout"
        }
      ]
    },
    {
      "cell_type": "code",
      "metadata": {
        "id": "79FXP7SPvd4Z",
        "colab_type": "code",
        "colab": {
          "base_uri": "https://localhost:8080/",
          "height": 265
        },
        "outputId": "7468a4e2-dfd7-4e1b-fddb-1a79cd1bfb72"
      },
      "source": [
        "#Visualization of Uniform Distribution\n",
        "from numpy import random\n",
        "import matplotlib.pyplot as plt\n",
        "import seaborn as sns\n",
        "\n",
        "sns.distplot(random.uniform(size=1000), hist=False)\n",
        "\n",
        "plt.show()"
      ],
      "execution_count": null,
      "outputs": [
        {
          "output_type": "display_data",
          "data": {
            "image/png": "[encoded data removed]",
            "text/plain": [
              "<Figure size 432x288 with 1 Axes>"
            ]
          },
          "metadata": {
            "tags": [],
            "needs_background": "light"
          }
        }
      ]
    },
    {
      "cell_type": "code",
      "metadata": {
        "id": "IUfB9JOyvqKG",
        "colab_type": "code",
        "colab": {
          "base_uri": "https://localhost:8080/",
          "height": 51
        },
        "outputId": "8471ea9d-c056-452b-834d-ff8753c1bfe9"
      },
      "source": [
        "#Logistic Distribution is used to describe growth.\n",
        "from numpy import random\n",
        "\n",
        "x = random.logistic(loc=1, scale=2, size=(2, 3))\n",
        "\n",
        "print(x)"
      ],
      "execution_count": null,
      "outputs": [
        {
          "output_type": "stream",
          "text": [
            "[[-0.34499503  0.75996705  1.18482978]\n",
            " [ 1.87381621  7.87630245  0.58219999]]\n"
          ],
          "name": "stdout"
        }
      ]
    },
    {
      "cell_type": "code",
      "metadata": {
        "id": "AtvaBMbJv1nl",
        "colab_type": "code",
        "colab": {
          "base_uri": "https://localhost:8080/",
          "height": 267
        },
        "outputId": "e06224e6-84af-4565-f614-95443c6904f8"
      },
      "source": [
        "#Visualization of Logistic Distribution\n",
        "from numpy import random\n",
        "import matplotlib.pyplot as plt\n",
        "import seaborn as sns\n",
        "\n",
        "sns.distplot(random.logistic(size=1000), hist=False)\n",
        "\n",
        "plt.show()"
      ],
      "execution_count": null,
      "outputs": [
        {
          "output_type": "display_data",
          "data": {
            "image/png": "[encoded data removed]",
            "text/plain": [
              "<Figure size 432x288 with 1 Axes>"
            ]
          },
          "metadata": {
            "tags": [],
            "needs_background": "light"
          }
        }
      ]
    },
    {
      "cell_type": "markdown",
      "metadata": {
        "id": "vWbVHW3XwD27",
        "colab_type": "text"
      },
      "source": [
        "Difference Between Logistic and Normal Distribution\n",
        "Both distributions are near identical, but logistic distribution has more area under the tails. ie. It representage more possibility of occurence of an events further away from mean.\n",
        "\n",
        "For higher value of scale (standard deviation) the normal and logistic distributions are near identical apart from the peak."
      ]
    },
    {
      "cell_type": "code",
      "metadata": {
        "id": "t3zVxI5qv_e2",
        "colab_type": "code",
        "colab": {
          "base_uri": "https://localhost:8080/",
          "height": 265
        },
        "outputId": "ee84682d-1f28-4935-8416-234c4333189d"
      },
      "source": [
        "from numpy import random\n",
        "import matplotlib.pyplot as plt\n",
        "import seaborn as sns\n",
        "\n",
        "sns.distplot(random.normal(scale=2, size=1000), hist=False, label='normal')\n",
        "sns.distplot(random.logistic(size=1000), hist=False, label='logistic')\n",
        "\n",
        "plt.show()"
      ],
      "execution_count": null,
      "outputs": [
        {
          "output_type": "display_data",
          "data": {
            "image/png": "[encoded data removed]",
            "text/plain": [
              "<Figure size 432x288 with 1 Axes>"
            ]
          },
          "metadata": {
            "tags": [],
            "needs_background": "light"
          }
        }
      ]
    },
    {
      "cell_type": "markdown",
      "metadata": {
        "id": "0pXNYsF4wbC_",
        "colab_type": "text"
      },
      "source": [
        "Multinomial Distribution\n",
        "Multinomial distribution is a generalization of binomial distribution.\n",
        "\n",
        "It describes outcomes of multi-nomial scenarios unlike binomial where scenarios must be only one of two. e.g. Blood type of a population, dice roll outcome."
      ]
    },
    {
      "cell_type": "code",
      "metadata": {
        "id": "YxjrTkBEeSza",
        "colab_type": "code",
        "colab": {
          "base_uri": "https://localhost:8080/",
          "height": 34
        },
        "outputId": "edaf95e1-9a3b-403a-9ad2-318e3de7b9be"
      },
      "source": [
        "from numpy import random\n",
        "\n",
        "x = random.multinomial(n=6, pvals=[1/6, 1/6, 1/6, 1/6, 1/6, 1/6])\n",
        "\n",
        "print(x)"
      ],
      "execution_count": null,
      "outputs": [
        {
          "output_type": "stream",
          "text": [
            "[1 2 1 0 2 0]\n"
          ],
          "name": "stdout"
        }
      ]
    },
    {
      "cell_type": "markdown",
      "metadata": {
        "id": "HONxUm7feeYE",
        "colab_type": "text"
      },
      "source": [
        "Exponential distribution is used for describing time till next event e.g. failure/success etc.\n",
        "\n",
        "It has two parameters:\n",
        "\n",
        "scale - inverse of rate ( see lam in poisson distribution ) defaults to 1.0.\n",
        "\n",
        "size - The shape of the returned array."
      ]
    },
    {
      "cell_type": "code",
      "metadata": {
        "id": "vgO63VoQeY9e",
        "colab_type": "code",
        "colab": {
          "base_uri": "https://localhost:8080/",
          "height": 51
        },
        "outputId": "73da714e-e913-46bc-c712-83b7423038d5"
      },
      "source": [
        "from numpy import random\n",
        "\n",
        "x = random.exponential(scale=2, size=(2, 3))\n",
        "\n",
        "print(x)"
      ],
      "execution_count": null,
      "outputs": [
        {
          "output_type": "stream",
          "text": [
            "[[0.80403513 0.39646816 7.9336232 ]\n",
            " [1.13541108 0.35251853 1.46197442]]\n"
          ],
          "name": "stdout"
        }
      ]
    },
    {
      "cell_type": "code",
      "metadata": {
        "id": "epNKWHWUel9A",
        "colab_type": "code",
        "colab": {
          "base_uri": "https://localhost:8080/",
          "height": 322
        },
        "outputId": "73faa226-f919-4f68-84e5-b039b4c6758b"
      },
      "source": [
        "from numpy import random\n",
        "import matplotlib.pyplot as plt\n",
        "import seaborn as sns\n",
        "\n",
        "sns.distplot(random.exponential(size=1000), hist=False)\n",
        "\n",
        "plt.show()"
      ],
      "execution_count": null,
      "outputs": [
        {
          "output_type": "stream",
          "text": [
            "/usr/local/lib/python3.6/dist-packages/statsmodels/tools/_testing.py:19: FutureWarning: pandas.util.testing is deprecated. Use the functions in the public API at pandas.testing instead.\n",
            "  import pandas.util.testing as tm\n"
          ],
          "name": "stderr"
        },
        {
          "output_type": "display_data",
          "data": {
            "image/png": "[encoded data removed]",
            "text/plain": [
              "<Figure size 432x288 with 1 Axes>"
            ]
          },
          "metadata": {
            "tags": [],
            "needs_background": "light"
          }
        }
      ]
    },
    {
      "cell_type": "markdown",
      "metadata": {
        "id": "qEz8JGaiex5U",
        "colab_type": "text"
      },
      "source": [
        "Chi Square distribution is used as a basis to verify the hypothesis.\n",
        "\n",
        "It has two parameters:\n",
        "\n",
        "df - (degree of freedom).\n",
        "\n",
        "size - The shape of the returned array."
      ]
    },
    {
      "cell_type": "code",
      "metadata": {
        "id": "nCPpa9seetTE",
        "colab_type": "code",
        "colab": {
          "base_uri": "https://localhost:8080/",
          "height": 51
        },
        "outputId": "3dbe409a-8808-4dc1-b727-14dfcb4f6df7"
      },
      "source": [
        "from numpy import random\n",
        "\n",
        "x = random.chisquare(df=2, size=(2, 3))\n",
        "\n",
        "print(x)"
      ],
      "execution_count": null,
      "outputs": [
        {
          "output_type": "stream",
          "text": [
            "[[0.57231607 0.00747147 4.65372105]\n",
            " [0.30699419 1.11459519 1.75193438]]\n"
          ],
          "name": "stdout"
        }
      ]
    },
    {
      "cell_type": "code",
      "metadata": {
        "id": "T6eSHAWTe3zo",
        "colab_type": "code",
        "colab": {
          "base_uri": "https://localhost:8080/",
          "height": 265
        },
        "outputId": "c775e941-d2e6-41ab-d83d-6b8d9ac3e8a5"
      },
      "source": [
        "from numpy import random\n",
        "import matplotlib.pyplot as plt\n",
        "import seaborn as sns\n",
        "\n",
        "sns.distplot(random.chisquare(df=1, size=1000), hist=False)\n",
        "\n",
        "plt.show()"
      ],
      "execution_count": null,
      "outputs": [
        {
          "output_type": "display_data",
          "data": {
            "image/png": "[encoded data removed]",
            "text/plain": [
              "<Figure size 432x288 with 1 Axes>"
            ]
          },
          "metadata": {
            "tags": [],
            "needs_background": "light"
          }
        }
      ]
    },
    {
      "cell_type": "code",
      "metadata": {
        "id": "4UTNyQLbe7pe",
        "colab_type": "code",
        "colab": {
          "base_uri": "https://localhost:8080/",
          "height": 51
        },
        "outputId": "43fb2312-e4df-4e0c-d242-1bc2253d614f"
      },
      "source": [
        "#Rayleigh distribution is used in signal processing\n",
        "from numpy import random\n",
        "\n",
        "x = random.rayleigh(scale=2, size=(2, 3))\n",
        "\n",
        "print(x)"
      ],
      "execution_count": null,
      "outputs": [
        {
          "output_type": "stream",
          "text": [
            "[[3.3805334  3.32585804 3.74101158]\n",
            " [1.43024527 1.27273066 2.38648471]]\n"
          ],
          "name": "stdout"
        }
      ]
    },
    {
      "cell_type": "code",
      "metadata": {
        "id": "U0t5tcX_fIF0",
        "colab_type": "code",
        "colab": {
          "base_uri": "https://localhost:8080/",
          "height": 268
        },
        "outputId": "c215edd3-718a-4a92-cf16-56c500209bfa"
      },
      "source": [
        "#Visualization of Rayleigh Distribution\n",
        "from numpy import random\n",
        "import matplotlib.pyplot as plt\n",
        "import seaborn as sns\n",
        "\n",
        "sns.distplot(random.rayleigh(size=1000), hist=False)\n",
        "\n",
        "plt.show()"
      ],
      "execution_count": null,
      "outputs": [
        {
          "output_type": "display_data",
          "data": {
            "image/png": "[encoded data removed]",
            "text/plain": [
              "<Figure size 432x288 with 1 Axes>"
            ]
          },
          "metadata": {
            "tags": [],
            "needs_background": "light"
          }
        }
      ]
    },
    {
      "cell_type": "code",
      "metadata": {
        "id": "nohnU6ZVfPbC",
        "colab_type": "code",
        "colab": {
          "base_uri": "https://localhost:8080/",
          "height": 51
        },
        "outputId": "81132736-bf38-402d-dca4-a9e3fe671783"
      },
      "source": [
        "#A distribution following Pareto's law i.e. 80-20 distribution (20% factors cause 80% outcome)\n",
        "from numpy import random\n",
        "\n",
        "x = random.pareto(a=2, size=(2, 3))\n",
        "\n",
        "print(x)"
      ],
      "execution_count": null,
      "outputs": [
        {
          "output_type": "stream",
          "text": [
            "[[0.00223022 0.48662259 0.04289701]\n",
            " [0.60944342 0.24692032 1.72908129]]\n"
          ],
          "name": "stdout"
        }
      ]
    },
    {
      "cell_type": "code",
      "metadata": {
        "id": "qQeF3ouMfbCV",
        "colab_type": "code",
        "colab": {
          "base_uri": "https://localhost:8080/",
          "height": 265
        },
        "outputId": "b354dca5-d277-4d7c-ecd2-c1adf4c056ec"
      },
      "source": [
        "#Visualization of Pareto Distribution\n",
        "from numpy import random\n",
        "import matplotlib.pyplot as plt\n",
        "import seaborn as sns\n",
        "\n",
        "sns.distplot(random.pareto(a=2, size=1000), kde=False)\n",
        "\n",
        "plt.show()"
      ],
      "execution_count": null,
      "outputs": [
        {
          "output_type": "display_data",
          "data": {
            "image/png": "[encoded data removed]",
            "text/plain": [
              "<Figure size 432x288 with 1 Axes>"
            ]
          },
          "metadata": {
            "tags": [],
            "needs_background": "light"
          }
        }
      ]
    },
    {
      "cell_type": "code",
      "metadata": {
        "id": "-GFxuYFkfh_M",
        "colab_type": "code",
        "colab": {
          "base_uri": "https://localhost:8080/",
          "height": 51
        },
        "outputId": "bc494b91-8832-4d0c-a137-1f543edc8ef9"
      },
      "source": [
        "#Zipf distritutions are used to sample data based on zipf's law\n",
        "from numpy import random\n",
        "\n",
        "x = random.zipf(a=2, size=(2, 3))\n",
        "\n",
        "print(x)"
      ],
      "execution_count": null,
      "outputs": [
        {
          "output_type": "stream",
          "text": [
            "[[ 1  1  1]\n",
            " [10  1 12]]\n"
          ],
          "name": "stdout"
        }
      ]
    },
    {
      "cell_type": "code",
      "metadata": {
        "id": "H4oXmWkpgewU",
        "colab_type": "code",
        "colab": {
          "base_uri": "https://localhost:8080/",
          "height": 265
        },
        "outputId": "69480b6b-b57f-44b8-d007-d74449342019"
      },
      "source": [
        "#Visualization of Zipf Distribution\n",
        "from numpy import random\n",
        "import matplotlib.pyplot as plt\n",
        "import seaborn as sns\n",
        "\n",
        "x = random.zipf(a=2, size=1000)\n",
        "sns.distplot(x[x<10], kde=False)\n",
        "\n",
        "plt.show()"
      ],
      "execution_count": null,
      "outputs": [
        {
          "output_type": "display_data",
          "data": {
            "image/png": "[encoded data removed]",
            "text/plain": [
              "<Figure size 432x288 with 1 Axes>"
            ]
          },
          "metadata": {
            "tags": [],
            "needs_background": "light"
          }
        }
      ]
    }
  ]
}