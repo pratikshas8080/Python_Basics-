{
  "nbformat": 4,
  "nbformat_minor": 0,
  "metadata": {
    "colab": {
      "name": "How to Remove Duplicates From a Python List.ipynb",
      "provenance": [],
      "collapsed_sections": [],
      "authorship_tag": "ABX9TyOXzovXp691jfru2/DyWIPn",
      "include_colab_link": true
    },
    "kernelspec": {
      "name": "python3",
      "display_name": "Python 3"
    }
  },
  "cells": [
    {
      "cell_type": "markdown",
      "metadata": {
        "id": "view-in-github",
        "colab_type": "text"
      },
      "source": [
        "<a href=\"https://colab.research.google.com/github/pratikshas8080/Python_Basics-/blob/master/How_to_Remove_Duplicates_From_a_Python_List.ipynb\" target=\"_parent\"><img src=\"https://colab.research.google.com/assets/colab-badge.svg\" alt=\"Open In Colab\"/></a>"
      ]
    },
    {
      "cell_type": "code",
      "metadata": {
        "id": "j56W3dwYXjMY",
        "colab_type": "code",
        "colab": {
          "base_uri": "https://localhost:8080/",
          "height": 34
        },
        "outputId": "40e37e71-5e5b-4252-f652-5439053975f8"
      },
      "source": [
        "#Remove any duplicates from a List\n",
        "mylist = [\"a\", \"b\", \"a\", \"c\", \"c\"]\n",
        "mylist = list(dict.fromkeys(mylist))\n",
        "print(mylist)"
      ],
      "execution_count": 1,
      "outputs": [
        {
          "output_type": "stream",
          "text": [
            "['a', 'b', 'c']\n"
          ],
          "name": "stdout"
        }
      ]
    },
    {
      "cell_type": "code",
      "metadata": {
        "id": "xt-EWxktZL4G",
        "colab_type": "code",
        "colab": {
          "base_uri": "https://localhost:8080/",
          "height": 34
        },
        "outputId": "88a53176-a7cb-4bad-b45e-6ba75d219be7"
      },
      "source": [
        "#mylist = [\"a\", \"b\", \"a\", \"c\", \"c\"]\n",
        "mylist = list(dict.fromkeys(mylist))\n",
        "print(mylist)\n",
        "mylist = [\"a\", \"b\", \"a\", \"c\", \"c\"]\n",
        "mylist = list(dict.fromkeys(mylist))\n",
        "print(mylist)"
      ],
      "execution_count": 2,
      "outputs": [
        {
          "output_type": "stream",
          "text": [
            "['a', 'b', 'c']\n"
          ],
          "name": "stdout"
        }
      ]
    },
    {
      "cell_type": "code",
      "metadata": {
        "id": "1rUB1AdybvZ9",
        "colab_type": "code",
        "colab": {
          "base_uri": "https://localhost:8080/",
          "height": 34
        },
        "outputId": "66367a5a-3d2e-44a0-fe73-f6c48488adb4"
      },
      "source": [
        "#If you like to have a function where you can send your lists, and get them back without duplicates, you can create a function and insert the code from the example above.\n",
        "def my_function(x):\n",
        "  return list(dict.fromkeys(x))\n",
        "\n",
        "mylist = my_function([\"a\", \"b\", \"a\", \"c\", \"c\"])\n",
        "\n",
        "print(mylist)"
      ],
      "execution_count": 3,
      "outputs": [
        {
          "output_type": "stream",
          "text": [
            "['a', 'b', 'c']\n"
          ],
          "name": "stdout"
        }
      ]
    },
    {
      "cell_type": "code",
      "metadata": {
        "id": "n0zHLBILfStS",
        "colab_type": "code",
        "colab": {
          "base_uri": "https://localhost:8080/",
          "height": 34
        },
        "outputId": "71d8b06a-a25a-4c5c-d98f-adf610c750e3"
      },
      "source": [
        "#Create a function that takes a List as an argument\n",
        "def my_function(x):\n",
        "  return list(dict.fromkeys(x))\n",
        "\n",
        "mylist = my_function([\"a\", \"b\", \"a\", \"c\", \"c\"])\n",
        "\n",
        "print(mylist)"
      ],
      "execution_count": 4,
      "outputs": [
        {
          "output_type": "stream",
          "text": [
            "['a', 'b', 'c']\n"
          ],
          "name": "stdout"
        }
      ]
    },
    {
      "cell_type": "code",
      "metadata": {
        "id": "6cqbNZG6f0XM",
        "colab_type": "code",
        "colab": {
          "base_uri": "https://localhost:8080/",
          "height": 34
        },
        "outputId": "9afca6ed-7a72-4315-a6a3-a1b2643f731c"
      },
      "source": [
        "#Create a dictionary, using this List items as keys\n",
        "def my_function(x):\n",
        "  return list( dict.fromkeys(x) )\n",
        "\n",
        "mylist = my_function([\"a\", \"b\", \"a\", \"c\", \"c\"])\n",
        "\n",
        "print(mylist)"
      ],
      "execution_count": 5,
      "outputs": [
        {
          "output_type": "stream",
          "text": [
            "['a', 'b', 'c']\n"
          ],
          "name": "stdout"
        }
      ]
    },
    {
      "cell_type": "code",
      "metadata": {
        "id": "zhK472W5f62g",
        "colab_type": "code",
        "colab": {
          "base_uri": "https://localhost:8080/",
          "height": 34
        },
        "outputId": "280144ef-88c6-4f1c-df03-20dab96244bc"
      },
      "source": [
        "def my_function(x):\n",
        "  return list( dict.fromkeys(x) )\n",
        "\n",
        "mylist = my_function([\"a\", \"b\", \"a\", \"c\", \"c\"])\n",
        "\n",
        "print(mylist)"
      ],
      "execution_count": 6,
      "outputs": [
        {
          "output_type": "stream",
          "text": [
            "['a', 'b', 'c']\n"
          ],
          "name": "stdout"
        }
      ]
    },
    {
      "cell_type": "code",
      "metadata": {
        "id": "gStEuHy5jV8V",
        "colab_type": "code",
        "colab": {
          "base_uri": "https://localhost:8080/",
          "height": 34
        },
        "outputId": "ff81e946-e1f8-4650-e891-8fbc3bcd7509"
      },
      "source": [
        "#Return the list\n",
        "def my_function(x):\n",
        "  return list(dict.fromkeys(x))\n",
        "\n",
        "mylist = my_function([\"a\", \"b\", \"a\", \"c\", \"c\"])\n",
        "\n",
        "print(mylist)"
      ],
      "execution_count": 7,
      "outputs": [
        {
          "output_type": "stream",
          "text": [
            "['a', 'b', 'c']\n"
          ],
          "name": "stdout"
        }
      ]
    },
    {
      "cell_type": "code",
      "metadata": {
        "id": "Vf354LRjjxcE",
        "colab_type": "code",
        "colab": {
          "base_uri": "https://localhost:8080/",
          "height": 34
        },
        "outputId": "f6412177-c20d-410f-a253-ac26fc632216"
      },
      "source": [
        "def my_function(x):\n",
        "  return list(dict.fromkeys(x))\n",
        "\n",
        "mylist = my_function([\"a\", \"b\", \"a\", \"c\", \"c\"])\n",
        "\n",
        "print(mylist)"
      ],
      "execution_count": 8,
      "outputs": [
        {
          "output_type": "stream",
          "text": [
            "['a', 'b', 'c']\n"
          ],
          "name": "stdout"
        }
      ]
    },
    {
      "cell_type": "code",
      "metadata": {
        "id": "Ii2zbb3mksc5",
        "colab_type": "code",
        "colab": {
          "base_uri": "https://localhost:8080/",
          "height": 34
        },
        "outputId": "3ffc0516-d741-4de0-92f0-867edc58f71f"
      },
      "source": [
        "def my_function(x):\n",
        "  return list(dict.fromkeys(x))\n",
        "\n",
        "mylist = my_function([\"a\", \"b\", \"a\", \"c\", \"c\"])\n",
        "\n",
        "print(mylist)"
      ],
      "execution_count": 9,
      "outputs": [
        {
          "output_type": "stream",
          "text": [
            "['a', 'b', 'c']\n"
          ],
          "name": "stdout"
        }
      ]
    },
    {
      "cell_type": "code",
      "metadata": {
        "id": "qvVXcNddkv9j",
        "colab_type": "code",
        "colab": {
          "base_uri": "https://localhost:8080/",
          "height": 34
        },
        "outputId": "b388ef0e-d51b-4e84-8dd2-50e581bf3065"
      },
      "source": [
        "#How to Reverse a String in Python\n",
        "txt = \"Hello World\"[::-1]\n",
        "print(txt)"
      ],
      "execution_count": 10,
      "outputs": [
        {
          "output_type": "stream",
          "text": [
            "dlroW olleH\n"
          ],
          "name": "stdout"
        }
      ]
    },
    {
      "cell_type": "code",
      "metadata": {
        "id": "3IMwR_8dlA1Q",
        "colab_type": "code",
        "colab": {
          "base_uri": "https://localhost:8080/",
          "height": 34
        },
        "outputId": "956b5b8a-8029-4d34-d6b4-bf4e964f0711"
      },
      "source": [
        "#Slice the String\n",
        "txt = \"Hello World\"[::-1]\n",
        "print(txt)"
      ],
      "execution_count": 11,
      "outputs": [
        {
          "output_type": "stream",
          "text": [
            "dlroW olleH\n"
          ],
          "name": "stdout"
        }
      ]
    },
    {
      "cell_type": "code",
      "metadata": {
        "id": "S0cgnxHCltPO",
        "colab_type": "code",
        "colab": {
          "base_uri": "https://localhost:8080/",
          "height": 34
        },
        "outputId": "d6e1be50-530e-4a09-da7a-e9695e196ba0"
      },
      "source": [
        "#Print the List\n",
        "txt = \"Hello World\"[::-1]\n",
        "print(txt)"
      ],
      "execution_count": 12,
      "outputs": [
        {
          "output_type": "stream",
          "text": [
            "dlroW olleH\n"
          ],
          "name": "stdout"
        }
      ]
    },
    {
      "cell_type": "code",
      "metadata": {
        "id": "9c1EJWGFmW-E",
        "colab_type": "code",
        "colab": {
          "base_uri": "https://localhost:8080/",
          "height": 34
        },
        "outputId": "30f3dfeb-7fe8-4b3a-d782-4f4641bf18bd"
      },
      "source": [
        "#If you like to have a function where you can send your strings, and return them backwards, you can create a function and insert the code from the example above.\n",
        "def my_function(x):\n",
        "  return x[::-1]\n",
        "\n",
        "mytxt = my_function(\"I wonder how this text looks like backwards\")\n",
        "\n",
        "print(mytxt)"
      ],
      "execution_count": 13,
      "outputs": [
        {
          "output_type": "stream",
          "text": [
            "sdrawkcab ekil skool txet siht woh rednow I\n"
          ],
          "name": "stdout"
        }
      ]
    }
  ]
}