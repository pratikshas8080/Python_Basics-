{
  "nbformat": 4,
  "nbformat_minor": 0,
  "metadata": {
    "colab": {
      "name": "Python_Daily_Contribution.ipynb",
      "provenance": [],
      "authorship_tag": "ABX9TyP/fS3hJ2m18Ypyyp27iAh7",
      "include_colab_link": true
    },
    "kernelspec": {
      "name": "python3",
      "display_name": "Python 3"
    }
  },
  "cells": [
    {
      "cell_type": "markdown",
      "metadata": {
        "id": "view-in-github",
        "colab_type": "text"
      },
      "source": [
        "<a href=\"https://colab.research.google.com/github/pratikshas8080/Python_Basics-/blob/master/Python_Daily_Contribution.ipynb\" target=\"_parent\"><img src=\"https://colab.research.google.com/assets/colab-badge.svg\" alt=\"Open In Colab\"/></a>"
      ]
    },
    {
      "cell_type": "code",
      "metadata": {
        "id": "X6ZZZrBMzw3L",
        "colab": {
          "base_uri": "https://localhost:8080/"
        },
        "outputId": "ca35336f-d3ea-48c5-dfa5-662d038a8494"
      },
      "source": [
        "import sys\n",
        "name=[]\n",
        "sys.getrefcount(name)"
      ],
      "execution_count": null,
      "outputs": [
        {
          "output_type": "execute_result",
          "data": {
            "text/plain": [
              "2"
            ]
          },
          "metadata": {
            "tags": []
          },
          "execution_count": 2
        }
      ]
    },
    {
      "cell_type": "code",
      "metadata": {
        "colab": {
          "base_uri": "https://localhost:8080/"
        },
        "id": "d0_IeAkdwf-z",
        "outputId": "0d6bf660-d440-484d-85ac-115028de6a33"
      },
      "source": [
        "wattage = \"120 watt\"\n",
        "incandescent = wattage\n",
        "wattage = \"25 watt\"\n",
        "print(incandescent, wattage)"
      ],
      "execution_count": null,
      "outputs": [
        {
          "output_type": "stream",
          "text": [
            "120 watt 25 watt\n"
          ],
          "name": "stdout"
        }
      ]
    },
    {
      "cell_type": "code",
      "metadata": {
        "colab": {
          "base_uri": "https://localhost:8080/"
        },
        "id": "MknTxKN23bR5",
        "outputId": "231fbded-eed7-4e77-da79-4560287c9b93"
      },
      "source": [
        "name = \"Matt\"\n",
        "first = name\n",
        "age = 1000\n",
        "print(id(age))\n",
        "age = age + 1\n",
        "print(id(age))\n",
        "names = []\n",
        "print(id(names))\n",
        "names.append(\"Fred\")\n",
        "print(id(names))"
      ],
      "execution_count": 1,
      "outputs": [
        {
          "output_type": "stream",
          "text": [
            "140106375604976\n",
            "140106375604784\n",
            "140106375771080\n",
            "140106375771080\n"
          ],
          "name": "stdout"
        }
      ]
    }
  ]
}