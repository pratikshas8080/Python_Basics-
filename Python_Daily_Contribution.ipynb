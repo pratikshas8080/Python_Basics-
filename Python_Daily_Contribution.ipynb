{
  "nbformat": 4,
  "nbformat_minor": 0,
  "metadata": {
    "colab": {
      "name": "Python_Daily_Contribution.ipynb",
      "provenance": [],
      "authorship_tag": "ABX9TyMAzJOGcVDMpncFExxLGUAM",
      "include_colab_link": true
    },
    "kernelspec": {
      "name": "python3",
      "display_name": "Python 3"
    }
  },
  "cells": [
    {
      "cell_type": "markdown",
      "metadata": {
        "id": "view-in-github",
        "colab_type": "text"
      },
      "source": [
        "<a href=\"https://colab.research.google.com/github/pratikshas8080/Python_Basics-/blob/master/Python_Daily_Contribution.ipynb\" target=\"_parent\"><img src=\"https://colab.research.google.com/assets/colab-badge.svg\" alt=\"Open In Colab\"/></a>"
      ]
    },
    {
      "cell_type": "code",
      "metadata": {
        "id": "X6ZZZrBMzw3L",
        "colab": {
          "base_uri": "https://localhost:8080/"
        },
        "outputId": "ca35336f-d3ea-48c5-dfa5-662d038a8494"
      },
      "source": [
        "import sys\n",
        "name=[]\n",
        "sys.getrefcount(name)"
      ],
      "execution_count": null,
      "outputs": [
        {
          "output_type": "execute_result",
          "data": {
            "text/plain": [
              "2"
            ]
          },
          "metadata": {
            "tags": []
          },
          "execution_count": 2
        }
      ]
    },
    {
      "cell_type": "code",
      "metadata": {
        "colab": {
          "base_uri": "https://localhost:8080/"
        },
        "id": "d0_IeAkdwf-z",
        "outputId": "0d6bf660-d440-484d-85ac-115028de6a33"
      },
      "source": [
        "wattage = \"120 watt\"\n",
        "incandescent = wattage\n",
        "wattage = \"25 watt\"\n",
        "print(incandescent, wattage)"
      ],
      "execution_count": null,
      "outputs": [
        {
          "output_type": "stream",
          "text": [
            "120 watt 25 watt\n"
          ],
          "name": "stdout"
        }
      ]
    },
    {
      "cell_type": "code",
      "metadata": {
        "colab": {
          "base_uri": "https://localhost:8080/"
        },
        "id": "MknTxKN23bR5",
        "outputId": "231fbded-eed7-4e77-da79-4560287c9b93"
      },
      "source": [
        "name = \"Matt\"\n",
        "first = name\n",
        "age = 1000\n",
        "print(id(age))\n",
        "age = age + 1\n",
        "print(id(age))\n",
        "names = []\n",
        "print(id(names))\n",
        "names.append(\"Fred\")\n",
        "print(id(names))"
      ],
      "execution_count": 1,
      "outputs": [
        {
          "output_type": "stream",
          "text": [
            "140106375604976\n",
            "140106375604784\n",
            "140106375771080\n",
            "140106375771080\n"
          ],
          "name": "stdout"
        }
      ]
    },
    {
      "cell_type": "code",
      "metadata": {
        "colab": {
          "base_uri": "https://localhost:8080/"
        },
        "id": "pNKg2LVv33IP",
        "outputId": "f7325e32-0798-41e5-af5b-92e917a5c4a4"
      },
      "source": [
        "print(type(1))\n",
        "print(type(2.5))"
      ],
      "execution_count": 4,
      "outputs": [
        {
          "output_type": "stream",
          "text": [
            "<class 'int'>\n",
            "<class 'float'>\n"
          ],
          "name": "stdout"
        }
      ]
    },
    {
      "cell_type": "code",
      "metadata": {
        "colab": {
          "base_uri": "https://localhost:8080/"
        },
        "id": "eWbXtzB44EpP",
        "outputId": "0b72197c-dc6f-45d6-841e-4141fc508001"
      },
      "source": [
        "import keyword\n",
        "print(keyword.kwlist)"
      ],
      "execution_count": 7,
      "outputs": [
        {
          "output_type": "stream",
          "text": [
            "['False', 'None', 'True', 'and', 'as', 'assert', 'break', 'class', 'continue', 'def', 'del', 'elif', 'else', 'except', 'finally', 'for', 'from', 'global', 'if', 'import', 'in', 'is', 'lambda', 'nonlocal', 'not', 'or', 'pass', 'raise', 'return', 'try', 'while', 'with', 'yield']\n"
          ],
          "name": "stdout"
        }
      ]
    },
    {
      "cell_type": "code",
      "metadata": {
        "colab": {
          "base_uri": "https://localhost:8080/"
        },
        "id": "y8Kbvpey45sh",
        "outputId": "b85b2a04-fd34-4162-f42d-e3e0c9edaf5d"
      },
      "source": [
        "import operator\n",
        "operator.add(2,4)"
      ],
      "execution_count": 8,
      "outputs": [
        {
          "output_type": "execute_result",
          "data": {
            "text/plain": [
              "6"
            ]
          },
          "metadata": {
            "tags": []
          },
          "execution_count": 8
        }
      ]
    },
    {
      "cell_type": "code",
      "metadata": {
        "colab": {
          "base_uri": "https://localhost:8080/"
        },
        "id": "Vqr71s2A5N9c",
        "outputId": "23c2f104-d5bb-4016-dbc5-183a78feff99"
      },
      "source": [
        "4+2*8"
      ],
      "execution_count": 9,
      "outputs": [
        {
          "output_type": "execute_result",
          "data": {
            "text/plain": [
              "20"
            ]
          },
          "metadata": {
            "tags": []
          },
          "execution_count": 9
        }
      ]
    }
  ]
}