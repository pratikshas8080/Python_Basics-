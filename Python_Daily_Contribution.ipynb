{
  "nbformat": 4,
  "nbformat_minor": 0,
  "metadata": {
    "colab": {
      "name": "Python_Daily_Contribution.ipynb",
      "provenance": [],
      "authorship_tag": "ABX9TyOctwGHN+ROnWHxqgKfzLGS",
      "include_colab_link": true
    },
    "kernelspec": {
      "name": "python3",
      "display_name": "Python 3"
    }
  },
  "cells": [
    {
      "cell_type": "markdown",
      "metadata": {
        "id": "view-in-github",
        "colab_type": "text"
      },
      "source": [
        "<a href=\"https://colab.research.google.com/github/pratikshas8080/Python_Basics-/blob/master/Python_Daily_Contribution.ipynb\" target=\"_parent\"><img src=\"https://colab.research.google.com/assets/colab-badge.svg\" alt=\"Open In Colab\"/></a>"
      ]
    },
    {
      "cell_type": "code",
      "metadata": {
        "id": "X6ZZZrBMzw3L",
        "colab": {
          "base_uri": "https://localhost:8080/"
        },
        "outputId": "ca35336f-d3ea-48c5-dfa5-662d038a8494"
      },
      "source": [
        "import sys\n",
        "name=[]\n",
        "sys.getrefcount(name)"
      ],
      "execution_count": 2,
      "outputs": [
        {
          "output_type": "execute_result",
          "data": {
            "text/plain": [
              "2"
            ]
          },
          "metadata": {
            "tags": []
          },
          "execution_count": 2
        }
      ]
    },
    {
      "cell_type": "code",
      "metadata": {
        "colab": {
          "base_uri": "https://localhost:8080/"
        },
        "id": "d0_IeAkdwf-z",
        "outputId": "0d6bf660-d440-484d-85ac-115028de6a33"
      },
      "source": [
        "wattage = \"120 watt\"\n",
        "incandescent = wattage\n",
        "wattage = \"25 watt\"\n",
        "print(incandescent, wattage)"
      ],
      "execution_count": 5,
      "outputs": [
        {
          "output_type": "stream",
          "text": [
            "120 watt 25 watt\n"
          ],
          "name": "stdout"
        }
      ]
    }
  ]
}