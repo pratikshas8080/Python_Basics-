{
  "nbformat": 4,
  "nbformat_minor": 0,
  "metadata": {
    "colab": {
      "name": "multi_asignment.ipynb",
      "provenance": [],
      "authorship_tag": "ABX9TyOJ6R9f14Z3BdDsvBNq0v0E",
      "include_colab_link": true
    },
    "kernelspec": {
      "name": "python3",
      "display_name": "Python 3"
    }
  },
  "cells": [
    {
      "cell_type": "markdown",
      "metadata": {
        "id": "view-in-github",
        "colab_type": "text"
      },
      "source": [
        "<a href=\"https://colab.research.google.com/github/pratikshas8080/Python_Basics-/blob/master/multi_asignment.ipynb\" target=\"_parent\"><img src=\"https://colab.research.google.com/assets/colab-badge.svg\" alt=\"Open In Colab\"/></a>"
      ]
    },
    {
      "cell_type": "code",
      "metadata": {
        "colab": {
          "base_uri": "https://localhost:8080/"
        },
        "id": "RtnQ78ZuE02C",
        "outputId": "9c2b1a0a-09d5-4838-c4f3-8c4e89d5e88a"
      },
      "source": [
        "#multi asignment\n",
        "a=[1,2,3]#List\n",
        "b=(4,5,6)#tulpe\n",
        "c={7,8,9}#set \n",
        "p, q, r = a\n",
        "s, t, u = b\n",
        "x, y, z = c\n",
        "print(p, q, r)\n",
        "print(s, t, u)\n",
        "print(x, y, z)"
      ],
      "execution_count": 2,
      "outputs": [
        {
          "output_type": "stream",
          "text": [
            "1 2 3\n",
            "4 5 6\n",
            "8 9 7\n"
          ],
          "name": "stdout"
        }
      ]
    }
  ]
}