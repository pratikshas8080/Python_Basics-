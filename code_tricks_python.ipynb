{
  "nbformat": 4,
  "nbformat_minor": 0,
  "metadata": {
    "colab": {
      "name": "code_tricks_python.ipynb",
      "provenance": [],
      "authorship_tag": "ABX9TyPTIHdIouZ6vuuqNRv6AKKf",
      "include_colab_link": true
    },
    "kernelspec": {
      "name": "python3",
      "display_name": "Python 3"
    }
  },
  "cells": [
    {
      "cell_type": "markdown",
      "metadata": {
        "id": "view-in-github",
        "colab_type": "text"
      },
      "source": [
        "<a href=\"https://colab.research.google.com/github/pratikshas8080/Python_Basics-/blob/master/code_tricks_python.ipynb\" target=\"_parent\"><img src=\"https://colab.research.google.com/assets/colab-badge.svg\" alt=\"Open In Colab\"/></a>"
      ]
    },
    {
      "cell_type": "code",
      "metadata": {
        "colab": {
          "base_uri": "https://localhost:8080/"
        },
        "id": "vacjYvnY_NAf",
        "outputId": "2d550941-6441-45dd-f7fc-2d1305e7eba5"
      },
      "source": [
        "#Multi Assignments\n",
        "a=[1,2,3]#list\n",
        "b=(4,5,6)#tuples\n",
        "c={7,8,9}#Set\n",
        "p,q,r=a\n",
        "s,t,u=b\n",
        "x,y,z=c\n",
        "print(p,q,r)\n",
        "print(s,t,u)\n",
        "print(x,y,z)"
      ],
      "execution_count": null,
      "outputs": [
        {
          "output_type": "stream",
          "text": [
            "1 2 3\n",
            "4 5 6\n",
            "8 9 7\n"
          ],
          "name": "stdout"
        }
      ]
    },
    {
      "cell_type": "code",
      "metadata": {
        "colab": {
          "base_uri": "https://localhost:8080/"
        },
        "id": "3ph2SZJ-AGt_",
        "outputId": "167eb936-d999-4fa6-8292-14402f15ffdc"
      },
      "source": [
        "i=0\n",
        "while i<5:\n",
        "  print(i, end=\" \")\n",
        "  i+= 1\n",
        "  if i==3:\n",
        "    break \n",
        "else:\n",
        "  print(0)"
      ],
      "execution_count": null,
      "outputs": [
        {
          "output_type": "stream",
          "text": [
            "0 1 2 "
          ],
          "name": "stdout"
        }
      ]
    }
  ]
}