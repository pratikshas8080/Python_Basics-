{
  "nbformat": 4,
  "nbformat_minor": 0,
  "metadata": {
    "colab": {
      "name": "basics_which_Need_for_ML.ipynb",
      "provenance": [],
      "authorship_tag": "ABX9TyNC5ukns5KC8GyURcEcJ9z2",
      "include_colab_link": true
    },
    "kernelspec": {
      "name": "python3",
      "display_name": "Python 3"
    }
  },
  "cells": [
    {
      "cell_type": "markdown",
      "metadata": {
        "id": "view-in-github",
        "colab_type": "text"
      },
      "source": [
        "<a href=\"https://colab.research.google.com/github/pratikshas8080/Python_Basics-/blob/master/basics_which_Need_for_ML.ipynb\" target=\"_parent\"><img src=\"https://colab.research.google.com/assets/colab-badge.svg\" alt=\"Open In Colab\"/></a>"
      ]
    },
    {
      "cell_type": "markdown",
      "metadata": {
        "id": "7E3peUzAHBOu",
        "colab_type": "text"
      },
      "source": [
        "Mean, Median, and Mode\n",
        "What can we learn from looking at a group of numbers?\n",
        "\n",
        "In Machine Learning (and in mathematics) there are often three values that interests us:\n",
        "\n",
        "Mean - The average value\n",
        "Median - The mid point value\n",
        "Mode - The most common value"
      ]
    },
    {
      "cell_type": "code",
      "metadata": {
        "id": "KL5C_JT_G4Xa",
        "colab_type": "code",
        "colab": {
          "base_uri": "https://localhost:8080/",
          "height": 34
        },
        "outputId": "041bc01d-b4e7-44bf-a3c5-4a16456e62fb"
      },
      "source": [
        "speed = [99,86,87,88,111,86,103,87,94,78,77,85,86]\n",
        "print(speed)"
      ],
      "execution_count": 2,
      "outputs": [
        {
          "output_type": "stream",
          "text": [
            "[99, 86, 87, 88, 111, 86, 103, 87, 94, 78, 77, 85, 86]\n"
          ],
          "name": "stdout"
        }
      ]
    },
    {
      "cell_type": "code",
      "metadata": {
        "id": "0m5k7godHPaW",
        "colab_type": "code",
        "colab": {
          "base_uri": "https://localhost:8080/",
          "height": 34
        },
        "outputId": "20cadeac-177f-4a3f-9033-f98776b5daec"
      },
      "source": [
        "#To calculate the mean, find the sum of all values, and divide the sum by the number of values\n",
        "speed =(99+86+87+88+111+86+103+87+94+78+77+85+86) / 13\n",
        "print(speed)"
      ],
      "execution_count": 3,
      "outputs": [
        {
          "output_type": "stream",
          "text": [
            "89.76923076923077\n"
          ],
          "name": "stdout"
        }
      ]
    },
    {
      "cell_type": "code",
      "metadata": {
        "id": "1wmm6d4THdzY",
        "colab_type": "code",
        "colab": {
          "base_uri": "https://localhost:8080/",
          "height": 34
        },
        "outputId": "f4d1fb8e-8903-456b-e1db-878c0d3ad85b"
      },
      "source": [
        "import numpy\n",
        "\n",
        "speed = [99,86,87,88,111,86,103,87,94,78,77,85,86]\n",
        "\n",
        "x = numpy.mean(speed)\n",
        "\n",
        "print(x)"
      ],
      "execution_count": 4,
      "outputs": [
        {
          "output_type": "stream",
          "text": [
            "89.76923076923077\n"
          ],
          "name": "stdout"
        }
      ]
    },
    {
      "cell_type": "code",
      "metadata": {
        "id": "-XFQ9R1AHj9l",
        "colab_type": "code",
        "colab": {
          "base_uri": "https://localhost:8080/",
          "height": 34
        },
        "outputId": "4911c501-df7b-404d-b516-e58ea1a68fac"
      },
      "source": [
        "#The median value is the value in the middle, after you have sorted all the values\n",
        "import numpy\n",
        "\n",
        "speed = [99,86,87,88,111,86,103,87,94,78,77,85,86]\n",
        "\n",
        "x = numpy.median(speed)\n",
        "\n",
        "print(x)"
      ],
      "execution_count": 5,
      "outputs": [
        {
          "output_type": "stream",
          "text": [
            "87.0\n"
          ],
          "name": "stdout"
        }
      ]
    }
  ]
}